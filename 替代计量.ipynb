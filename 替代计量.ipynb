{
  "nbformat": 4,
  "nbformat_minor": 0,
  "metadata": {
    "colab": {
      "name": "替代计量.ipynb",
      "provenance": [],
      "collapsed_sections": [],
      "mount_file_id": "1XEko9EKtWf8hGFPxDY6prnwQfxXwaMXu",
      "authorship_tag": "ABX9TyMpdBikLTsdZpBPqsOye1V5",
      "include_colab_link": true
    },
    "kernelspec": {
      "name": "python3",
      "display_name": "Python 3"
    }
  },
  "cells": [
    {
      "cell_type": "markdown",
      "metadata": {
        "id": "view-in-github",
        "colab_type": "text"
      },
      "source": [
        "<a href=\"https://colab.research.google.com/github/songyang1995/hello_world/blob/master/%E6%9B%BF%E4%BB%A3%E8%AE%A1%E9%87%8F.ipynb\" target=\"_parent\"><img src=\"https://colab.research.google.com/assets/colab-badge.svg\" alt=\"Open In Colab\"/></a>"
      ]
    },
    {
      "cell_type": "code",
      "metadata": {
        "id": "CPPiTaKzcajb"
      },
      "source": [
        "# %%\r\n",
        "import re\r\n",
        "from typing import List\r\n",
        "import pandas as pd\r\n",
        "import numpy as np\r\n",
        "import os, sys\r\n",
        "\r\n",
        "\r\n",
        "def convert_source_bib_to_list(path: str = r\"F:\\workspace\\pycharm\\diagnosis_of_ameloblastoma\\bib\\savedrecs (1).txt\") \\\r\n",
        "        -> List[dict]:\r\n",
        "    \"\"\"\r\n",
        "    将一份WoS导出的 txt文件转换为list[dict]形式的数据\r\n",
        "    :param path:\r\n",
        "    :return: List[dict]\r\n",
        "    \"\"\"\r\n",
        "    res = []\r\n",
        "    with open(path, \"r\", encoding=\"utf8\") as src_file:\r\n",
        "        bib_dict = {}\r\n",
        "        current_key = ''\r\n",
        "        # pp = 0\r\n",
        "        for line in src_file:\r\n",
        "            # if pp<6:\r\n",
        "            #     print(line)\r\n",
        "            #     pp+=1\r\n",
        "            if len(line) == 0:\r\n",
        "                pass\r\n",
        "            elif line.startswith(\"PT\"):\r\n",
        "                bib_dict = {\"PT\": line.split()[1]}\r\n",
        "                current_key = 'PT'\r\n",
        "            elif line.startswith(\"  \"):\r\n",
        "                bib_dict[current_key] += \"\\n\" + line.strip()\r\n",
        "            elif line.startswith(\"ER\"):\r\n",
        "                res.append(bib_dict)\r\n",
        "            elif re.match(r\"[A-Z]{2}\\s.*\", line):\r\n",
        "                k, v = line.split(maxsplit=1)\r\n",
        "                bib_dict[k] = v.strip()\r\n",
        "                current_key = k\r\n",
        "    return res\r\n",
        "\r\n",
        "\r\n",
        "def convert_folder_bib_to_list(folder_path: str = r\"drive/MyDrive/引文文件夹\") -> \\\r\n",
        "        (List[dict], set):\r\n",
        "    \"\"\"\r\n",
        "    获取文件夹中所有文档的pandas格式数据\r\n",
        "    :param folder_path: 文件夹位置\r\n",
        "    :return:list[dict],set list形式引文信息，标签集合\r\n",
        "    \"\"\"\r\n",
        "    article_list_merge = []\r\n",
        "    fields = set()\r\n",
        "    for file_name in os.listdir(folder_path):\r\n",
        "        if not file_name.endswith(\"txt\"):\r\n",
        "            continue\r\n",
        "        else:\r\n",
        "            article_dict = convert_source_bib_to_list(folder_path + \"/\" + file_name)\r\n",
        "            for article_meta in article_dict:\r\n",
        "                article_meta[\"source_file\"] = file_name\r\n",
        "                fields.update(article_meta.keys())\r\n",
        "                article_list_merge.append(article_meta)\r\n",
        "            print(f\"file {file_name} has processed\")\r\n",
        "    return article_list_merge, fields\r\n",
        "\r\n",
        "\r\n",
        "def get_pandas_dataframe_from_bib_list(article_list: List[dict], fields: set):\r\n",
        "    \"\"\"\r\n",
        "    转化为pandas格式数据\r\n",
        "    \"\"\"\r\n",
        "    res = pd.DataFrame.from_records(article_list)\r\n",
        "    return res\r\n"
      ],
      "execution_count": null,
      "outputs": []
    },
    {
      "cell_type": "code",
      "metadata": {
        "colab": {
          "base_uri": "https://localhost:8080/",
          "height": 437
        },
        "id": "W-O8wg_QgnNn",
        "outputId": "dae0a9ce-27f3-4d52-8eac-f9b351f700f8"
      },
      "source": [
        "# 批处理\r\n",
        "bibs, fields = convert_folder_bib_to_list()\r\n",
        "pd_bibs = get_pandas_dataframe_from_bib_list(bibs, fields)\r\n",
        "\r\n",
        "#过滤掉所有不包含DOI字段的数据\r\n",
        "pd_bibs = pd_bibs.drop(pd_bibs[(pd_bibs[\"DI\"].isna()) | (pd_bibs[\"DI\"]==\"\")].index)\r\n",
        "\r\n",
        "# 获取所有DOI csv格式的\r\n",
        "pd_bibs[[\"source_file\",\"DI\"]].to_csv(\"doi列表.csv\")\r\n",
        "pd_bibs[[\"source_file\",\"DI\"]]"
      ],
      "execution_count": null,
      "outputs": [
        {
          "output_type": "stream",
          "text": [
            "file savedrecs (1).txt has processed\n"
          ],
          "name": "stdout"
        },
        {
          "output_type": "execute_result",
          "data": {
            "text/html": [
              "<div>\n",
              "<style scoped>\n",
              "    .dataframe tbody tr th:only-of-type {\n",
              "        vertical-align: middle;\n",
              "    }\n",
              "\n",
              "    .dataframe tbody tr th {\n",
              "        vertical-align: top;\n",
              "    }\n",
              "\n",
              "    .dataframe thead th {\n",
              "        text-align: right;\n",
              "    }\n",
              "</style>\n",
              "<table border=\"1\" class=\"dataframe\">\n",
              "  <thead>\n",
              "    <tr style=\"text-align: right;\">\n",
              "      <th></th>\n",
              "      <th>source_file</th>\n",
              "      <th>DI</th>\n",
              "    </tr>\n",
              "  </thead>\n",
              "  <tbody>\n",
              "    <tr>\n",
              "      <th>0</th>\n",
              "      <td>savedrecs (1).txt</td>\n",
              "      <td>10.1016/j.ijinfomgt.2019.02.009</td>\n",
              "    </tr>\n",
              "    <tr>\n",
              "      <th>1</th>\n",
              "      <td>savedrecs (1).txt</td>\n",
              "      <td>10.1016/j.ijinfomgt.2019.01.003</td>\n",
              "    </tr>\n",
              "    <tr>\n",
              "      <th>2</th>\n",
              "      <td>savedrecs (1).txt</td>\n",
              "      <td>10.1016/j.ijinfomgt.2019.03.003</td>\n",
              "    </tr>\n",
              "    <tr>\n",
              "      <th>3</th>\n",
              "      <td>savedrecs (1).txt</td>\n",
              "      <td>10.1016/j.ijinfomgt.2019.02.006</td>\n",
              "    </tr>\n",
              "    <tr>\n",
              "      <th>4</th>\n",
              "      <td>savedrecs (1).txt</td>\n",
              "      <td>10.1016/j.ijinfomgt.2019.03.005</td>\n",
              "    </tr>\n",
              "    <tr>\n",
              "      <th>...</th>\n",
              "      <td>...</td>\n",
              "      <td>...</td>\n",
              "    </tr>\n",
              "    <tr>\n",
              "      <th>495</th>\n",
              "      <td>savedrecs (1).txt</td>\n",
              "      <td>10.1016/j.ipm.2019.102070</td>\n",
              "    </tr>\n",
              "    <tr>\n",
              "      <th>496</th>\n",
              "      <td>savedrecs (1).txt</td>\n",
              "      <td>10.1016/j.ipm.2019.102061</td>\n",
              "    </tr>\n",
              "    <tr>\n",
              "      <th>497</th>\n",
              "      <td>savedrecs (1).txt</td>\n",
              "      <td>10.1016/j.ipm.2019.102075</td>\n",
              "    </tr>\n",
              "    <tr>\n",
              "      <th>498</th>\n",
              "      <td>savedrecs (1).txt</td>\n",
              "      <td>10.1016/j.ipm.2019.102079</td>\n",
              "    </tr>\n",
              "    <tr>\n",
              "      <th>499</th>\n",
              "      <td>savedrecs (1).txt</td>\n",
              "      <td>10.1016/j.ipm.2019.102102</td>\n",
              "    </tr>\n",
              "  </tbody>\n",
              "</table>\n",
              "<p>482 rows × 2 columns</p>\n",
              "</div>"
            ],
            "text/plain": [
              "           source_file                               DI\n",
              "0    savedrecs (1).txt  10.1016/j.ijinfomgt.2019.02.009\n",
              "1    savedrecs (1).txt  10.1016/j.ijinfomgt.2019.01.003\n",
              "2    savedrecs (1).txt  10.1016/j.ijinfomgt.2019.03.003\n",
              "3    savedrecs (1).txt  10.1016/j.ijinfomgt.2019.02.006\n",
              "4    savedrecs (1).txt  10.1016/j.ijinfomgt.2019.03.005\n",
              "..                 ...                              ...\n",
              "495  savedrecs (1).txt        10.1016/j.ipm.2019.102070\n",
              "496  savedrecs (1).txt        10.1016/j.ipm.2019.102061\n",
              "497  savedrecs (1).txt        10.1016/j.ipm.2019.102075\n",
              "498  savedrecs (1).txt        10.1016/j.ipm.2019.102079\n",
              "499  savedrecs (1).txt        10.1016/j.ipm.2019.102102\n",
              "\n",
              "[482 rows x 2 columns]"
            ]
          },
          "metadata": {
            "tags": []
          },
          "execution_count": 5
        }
      ]
    },
    {
      "cell_type": "code",
      "metadata": {
        "colab": {
          "base_uri": "https://localhost:8080/"
        },
        "id": "7oUd1rhHioyV",
        "outputId": "23ac7c0f-7e91-4a90-c9fb-7faf457f388c"
      },
      "source": [
        "# 挂载谷歌硬盘，存放数据的地方\n",
        "from google.colab import drive\n",
        "drive.mount('/content/drive')"
      ],
      "execution_count": null,
      "outputs": [
        {
          "output_type": "stream",
          "text": [
            "Drive already mounted at /content/drive; to attempt to forcibly remount, call drive.mount(\"/content/drive\", force_remount=True).\n"
          ],
          "name": "stdout"
        }
      ]
    }
  ]
}